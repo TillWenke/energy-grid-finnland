{
 "cells": [
  {
   "cell_type": "markdown",
   "id": "706a7b50",
   "metadata": {},
   "source": [
    "### Generic header ...\n",
    "\n",
    "Utility functions were reduced to libits.py and removed from this notebook"
   ]
  },
  {
   "cell_type": "code",
   "execution_count": 1,
   "id": "40a73d9e",
   "metadata": {},
   "outputs": [],
   "source": [
    "import numpy as np\n",
    "import pandas as pd\n",
    "import shapely\n",
    "import matplotlib\n",
    "from matplotlib import pylab as plt\n",
    "import pygeos\n",
    "import geopandas as gpd\n",
    "import pyproj\n",
    "import contextily as ctx\n",
    "import networkx as nx\n",
    "import osmnx\n",
    "import scipy as sc\n",
    "import sklearn\n",
    "import overpy\n",
    "import tempfile\n",
    "import os\n",
    "\n",
    "from shapely.geometry import Point\n",
    "from shapely.geometry import LineString"
   ]
  },
  {
   "cell_type": "code",
   "execution_count": null,
   "id": "46d1eef9",
   "metadata": {},
   "outputs": [],
   "source": [
    "crs_gps = pyproj.CRS.from_epsg('4326')  # Merkator\n",
    "crs_web = pyproj.CRS.from_epsg('3857')  # Pseudo-Merkator\n",
    "crs_estonia = pyproj.CRS.from_epsg('3301')"
   ]
  },
  {
   "cell_type": "code",
   "execution_count": null,
   "id": "51dba9d9",
   "metadata": {},
   "outputs": [],
   "source": [
    "overpass_client = overpy.Overpass()"
   ]
  },
  {
   "cell_type": "code",
   "execution_count": null,
   "id": "d29eb5a2",
   "metadata": {},
   "outputs": [],
   "source": [
    "query=\\\n",
    "'''[out:json];\n",
    "area[\"ISO3166-1\"=\"FI\"]->.a;\n",
    "\n",
    "way[power=line](area.a);\n",
    "(._;>;);   // Resolve nodes\n",
    "out geom;\n",
    "'''"
   ]
  },
  {
   "cell_type": "code",
   "execution_count": null,
   "id": "afda9ed3",
   "metadata": {},
   "outputs": [],
   "source": [
    "overpass_r = overpass_client.query(query)"
   ]
  },
  {
   "cell_type": "code",
   "execution_count": null,
   "id": "45f8a376",
   "metadata": {},
   "outputs": [],
   "source": [
    "df_nodes =\\\n",
    "pd.DataFrame([dict([(a,getattr(x,a)) for a in ['id','lat','lon']]) for x in overpass_r.nodes])\\\n",
    "    .set_index('id',drop=True)\n",
    "df_nodes"
   ]
  },
  {
   "cell_type": "code",
   "execution_count": null,
   "id": "42c47aad",
   "metadata": {},
   "outputs": [],
   "source": [
    "df_ways_idx =\\\n",
    "pd.DataFrame(np.vstack([np.asarray([[w.id, n.id] for n in w.nodes])\n",
    "                        for w in overpass_r.ways]),\n",
    "             columns=['id','node'])\\\n",
    "    .set_index('id', drop=True)\n",
    "df_ways_idx"
   ]
  },
  {
   "cell_type": "code",
   "execution_count": null,
   "id": "29f092b7",
   "metadata": {},
   "outputs": [],
   "source": [
    "df_ways=\\\n",
    "    df_ways_idx.groupby('id').apply(lambda df: df.node.values)\\\n",
    "        .to_frame()\\\n",
    "        .rename(columns={0:'nodes'})\n",
    "df_ways"
   ]
  },
  {
   "cell_type": "code",
   "execution_count": null,
   "id": "fdcbadd4",
   "metadata": {},
   "outputs": [],
   "source": [
    "gdf_nodes = gpd.GeoDataFrame(\n",
    "    df_nodes.assign(geometry=\\\n",
    "        df_nodes.groupby('id')\\\n",
    "            .apply(lambda df: df[['lon','lat']].values.reshape(-1))\\\n",
    "            .apply(Point))\\\n",
    "        .drop(columns=['lon','lat']),\n",
    "    crs=crs_gps)\n",
    "gdf_nodes\n",
    "\n",
    "gdf_nodes"
   ]
  },
  {
   "cell_type": "code",
   "execution_count": null,
   "id": "93552dbe",
   "metadata": {
    "scrolled": true
   },
   "outputs": [],
   "source": [
    "ax = gdf_nodes.to_crs(crs_web).plot()\n",
    "ctx.add_basemap(ax=ax, zoom=9)"
   ]
  },
  {
   "cell_type": "code",
   "execution_count": null,
   "id": "4b0cc3c0",
   "metadata": {},
   "outputs": [],
   "source": [
    "gdf_ways = gpd.GeoDataFrame(\n",
    "    df_ways.assign(geometry=\\\n",
    "        df_ways.nodes.apply(lambda nodes: LineString(df_nodes.loc[nodes][['lon','lat']].values))),\n",
    "    crs=crs_gps)\n",
    "gdf_ways"
   ]
  },
  {
   "cell_type": "code",
   "execution_count": null,
   "id": "69c40a04",
   "metadata": {},
   "outputs": [],
   "source": [
    "def get_voltage(x):\n",
    "    try:\n",
    "        vol = x.tags['voltage']\n",
    "        if ';' in vol:\n",
    "            vol = vol.split(';')[0]\n",
    "        return vol\n",
    "    except:\n",
    "        return 0"
   ]
  },
  {
   "cell_type": "code",
   "execution_count": null,
   "id": "f81583d2",
   "metadata": {},
   "outputs": [],
   "source": [
    "def get_cables(x):\n",
    "    try:\n",
    "        num = x.tags['cables']\n",
    "        if num == '2x2':\n",
    "            num = 4\n",
    "        return num\n",
    "    except:\n",
    "        return 1"
   ]
  },
  {
   "cell_type": "code",
   "execution_count": null,
   "id": "2af182a8",
   "metadata": {},
   "outputs": [],
   "source": [
    "df_capacity = pd.DataFrame([dict([('voltage',get_voltage(x)), ('cable_num',get_cables(x)), ('id',x.id)]) for x in overpass_r.ways]).set_index('id', drop=True)"
   ]
  },
  {
   "cell_type": "code",
   "execution_count": null,
   "id": "2915b36e",
   "metadata": {},
   "outputs": [],
   "source": [
    "gdf_ways['voltage'] = pd.to_numeric(df_capacity.voltage)\n",
    "gdf_ways['cable_num'] = pd.to_numeric(df_capacity.cable_num)"
   ]
  },
  {
   "cell_type": "code",
   "execution_count": null,
   "id": "540c82dd",
   "metadata": {},
   "outputs": [],
   "source": [
    "# assumed\n",
    "max_amp = 700\n",
    "gdf_ways['watts'] = gdf_ways.voltage * gdf_ways.cable_num * max_amp"
   ]
  },
  {
   "cell_type": "code",
   "execution_count": null,
   "id": "cba2b689",
   "metadata": {},
   "outputs": [],
   "source": [
    "ax=gdf_ways.to_crs(crs=crs_web).plot()\n",
    "ctx.add_basemap(ax=ax, zoom=9)"
   ]
  },
  {
   "cell_type": "code",
   "execution_count": null,
   "id": "16be0f11",
   "metadata": {},
   "outputs": [],
   "source": [
    "power_plants = pd.read_csv('plants.csv')"
   ]
  },
  {
   "cell_type": "code",
   "execution_count": null,
   "id": "826cf7d5",
   "metadata": {},
   "outputs": [],
   "source": [
    "power_plants = power_plants.loc[power_plants.country == 'FIN']"
   ]
  },
  {
   "cell_type": "code",
   "execution_count": null,
   "id": "5481dac4",
   "metadata": {},
   "outputs": [],
   "source": [
    "len(power_plants)"
   ]
  },
  {
   "cell_type": "code",
   "execution_count": null,
   "id": "7b1ff8a3",
   "metadata": {},
   "outputs": [],
   "source": [
    "power_plants['geometry'] = power_plants.apply(lambda plant: Point(plant.longitude, plant.latitude),axis=1)"
   ]
  },
  {
   "cell_type": "code",
   "execution_count": null,
   "id": "d2817cf8",
   "metadata": {},
   "outputs": [],
   "source": [
    "power_plants_gdf = gpd.GeoDataFrame(power_plants, crs=crs_gps, geometry='geometry')"
   ]
  },
  {
   "cell_type": "code",
   "execution_count": null,
   "id": "5e1d1c64",
   "metadata": {},
   "outputs": [],
   "source": [
    "ax=power_plants_gdf.to_crs(crs_web).plot()\n",
    "ctx.add_basemap(ax=ax, zoom=9)"
   ]
  },
  {
   "cell_type": "code",
   "execution_count": null,
   "id": "3f988770",
   "metadata": {},
   "outputs": [],
   "source": [
    "power_plants_gdf = gpd.sjoin_nearest(power_plants_gdf, gdf_nodes, distance_col='distance')"
   ]
  },
  {
   "cell_type": "code",
   "execution_count": null,
   "id": "f8107368",
   "metadata": {},
   "outputs": [],
   "source": [
    "power_plants_gdf['new_geometry'] = power_plants_gdf.apply(lambda plant: gdf_nodes.loc[plant.index_right],axis=1)"
   ]
  },
  {
   "cell_type": "code",
   "execution_count": null,
   "id": "eed10b70",
   "metadata": {},
   "outputs": [],
   "source": [
    "gdf_power_plants_on_grid = gpd.GeoDataFrame(power_plants_gdf, geometry='new_geometry', crs=crs_gps)"
   ]
  },
  {
   "cell_type": "code",
   "execution_count": null,
   "id": "f26eacc8",
   "metadata": {},
   "outputs": [],
   "source": [
    "fig, ax = plt.subplots(1,1,figsize=(20,20))\n",
    "\n",
    "gdf_ways.to_crs(crs=crs_web).plot(ax=ax)\n",
    "gdf_power_plants_on_grid.to_crs(crs=crs_web).plot(ax=ax,color='orange')\n",
    "ctx.add_basemap(ax=ax, zoom=9)"
   ]
  },
  {
   "cell_type": "code",
   "execution_count": null,
   "id": "de6d46ad",
   "metadata": {},
   "outputs": [],
   "source": [
    "# Break down to road segments\n",
    "#    Way can contain >=2 nodes\n",
    "#    Segment contains exactly 2 nodes (start, end)\n",
    "# Index the segment of each way\n",
    "def road2segs(df_road):\n",
    "    return \\\n",
    "        pd.DataFrame(dict(\n",
    "            zip(['power_line','seg','start_node','end_node', 'watts'],\n",
    "                np.asarray(list(\n",
    "                    zip((np.ones(len(df_road.nodes)-1)*df_road.name).astype(np.int64),\n",
    "                         np.arange(len(df_road.nodes)-1),\n",
    "                         df_road.nodes[:-1],\n",
    "                         df_road.nodes[1:]))).T))).set_index(['power_line','seg'])"
   ]
  },
  {
   "cell_type": "code",
   "execution_count": null,
   "id": "901cb8fc",
   "metadata": {},
   "outputs": [],
   "source": [
    "df_edges =\\\n",
    "    pd.concat([road2segs(gdf_ways.loc[way]) for way in gdf_ways.index])\n",
    "\n",
    "gdf_edges=\\\n",
    "    gpd.GeoDataFrame(\n",
    "        df_edges.assign(geometry=\\\n",
    "            df_edges\\\n",
    "                .join(gdf_nodes, on='start_node')\\\n",
    "                .rename(columns={'geometry':'vtx1'})\\\n",
    "                .join(gdf_nodes, on='end_node')\\\n",
    "                .rename(columns={'geometry':'vtx2'})\\\n",
    "                [['vtx1','vtx2']].T.apply(LineString)),\n",
    "        crs=crs_gps)"
   ]
  },
  {
   "cell_type": "code",
   "execution_count": null,
   "id": "4bd8816d",
   "metadata": {},
   "outputs": [],
   "source": [
    "gdf_edges = gdf_edges.join(gdf_ways['watts'], on='power_line')"
   ]
  },
  {
   "cell_type": "code",
   "execution_count": null,
   "id": "247caa2e",
   "metadata": {},
   "outputs": [],
   "source": [
    "ax=gdf_edges.to_crs(crs=crs_web).plot()\n",
    "ctx.add_basemap(ax=ax, zoom=9)"
   ]
  },
  {
   "cell_type": "code",
   "execution_count": null,
   "id": "ad08739f",
   "metadata": {},
   "outputs": [],
   "source": [
    "gdf_power_plants_on_grid = gdf_power_plants_on_grid.rename(columns={'index_right':'node_id', 'geometry':'original_geometry', 'new_geometry':'geometry'})"
   ]
  },
  {
   "cell_type": "code",
   "execution_count": null,
   "id": "eec7b27c",
   "metadata": {},
   "outputs": [],
   "source": [
    "#######################################\n",
    "gdf_nodes\n",
    "gdf_edges\n",
    "gdf_power_plants_on_grid\n",
    "#######################################"
   ]
  },
  {
   "cell_type": "code",
   "execution_count": null,
   "id": "003a41a8",
   "metadata": {},
   "outputs": [],
   "source": [
    "#traverse graph to kick out"
   ]
  },
  {
   "cell_type": "code",
   "execution_count": null,
   "id": "e417a509",
   "metadata": {},
   "outputs": [],
   "source": [
    "import networkx as nx\n",
    "G = nx.Graph()"
   ]
  },
  {
   "cell_type": "code",
   "execution_count": null,
   "id": "7c5e2e1d",
   "metadata": {},
   "outputs": [],
   "source": [
    "G.add_nodes_from(gdf_nodes.index, location=gdf_nodes.geometry)"
   ]
  },
  {
   "cell_type": "code",
   "execution_count": null,
   "id": "fe459ea3",
   "metadata": {},
   "outputs": [],
   "source": [
    "gdf_edges['edge'] = gdf_edges.apply(lambda edge: (edge.start_node,edge.end_node),axis=1)\n"
   ]
  },
  {
   "cell_type": "code",
   "execution_count": null,
   "id": "026f7ac9",
   "metadata": {},
   "outputs": [],
   "source": [
    "gdf_edg"
   ]
  },
  {
   "cell_type": "code",
   "execution_count": null,
   "id": "99845229",
   "metadata": {},
   "outputs": [],
   "source": [
    "gdf_edges.reset_index()\n",
    "gdf_edges = gdf_edges.set_index('edge')"
   ]
  },
  {
   "cell_type": "code",
   "execution_count": null,
   "id": "a8a25d5b",
   "metadata": {},
   "outputs": [],
   "source": [
    "gdf_edges = gdf_edges.drop(['start_node', 'end_node', 'geometry'],axis=1)"
   ]
  },
  {
   "cell_type": "code",
   "execution_count": null,
   "id": "acfca1f2",
   "metadata": {},
   "outputs": [],
   "source": [
    "import json\n",
    "\n",
    "with open('grid_contracted_nonan.json', 'r') as infile1:\n",
    "    F = nx.node_link_graph(json.loads(infile1.read()))\n",
    "D = nx.DiGraph(F)\n",
    "D.add_node(0,power=0) # source\n",
    "D.add_node(1,power=0) # sink\n",
    "\n",
    "for n in D:\n",
    "    power = D.nodes[n]['power']\n",
    "    if power > 0:\n",
    "        # producers\n",
    "        D.add_edge(0,n,capacity=power)\n",
    "    if power < 0:     \n",
    "        # consumers\n",
    "        D.add_edge(n,1,capacity=abs(power))"
   ]
  },
  {
   "cell_type": "code",
   "execution_count": null,
   "id": "d685d877",
   "metadata": {},
   "outputs": [],
   "source": [
    "import json\n",
    "with open('grid_contracted.json', 'w') as outfile1:\n",
    "    outfile1.write(json.dumps(nx.node_link_data(D)))"
   ]
  },
  {
   "cell_type": "code",
   "execution_count": null,
   "id": "8db3d860",
   "metadata": {},
   "outputs": [],
   "source": [
    "import sys\n",
    "sys.setrecursionlimit(100000)\n",
    "\n",
    "def dfs(visited,G_orig,u):\n",
    "    visited.add(u)\n",
    "\n",
    "    for neighbor in G_orig.neighbors(u):\n",
    "        if (neighbor not in visited):\n",
    "            if (G_orig.nodes[neighbor]['power'] == 0):\n",
    "                dfs(visited,G_orig,neighbor)\n",
    "            if (G_orig.nodes[neighbor]['power'] != 0):\n",
    "                # other node to keep\n",
    "                #print(start, neighbor)\n",
    "                cap = G_orig.edges[u,neighbor]['capacity']\n",
    "                create_new_edge(start,neighbor,cap)\n",
    "        if (neighbor in visited) and (G_orig.nodes[neighbor]['power'] != 0) and (neighbor != start):\n",
    "            cap = G_orig.edges[u,neighbor]['capacity']\n",
    "            update_edge(start,neighbor,cap)"
   ]
  },
  {
   "cell_type": "code",
   "execution_count": null,
   "id": "01afeecd",
   "metadata": {},
   "outputs": [],
   "source": [
    "def create_new_edge(u,v,cap):\n",
    "    G.add_edge(u,v,capacity=cap)\n",
    "\n",
    "def update_edge(u,v,cap):\n",
    "    G[u][v]['capacity'] += cap    "
   ]
  },
  {
   "cell_type": "code",
   "execution_count": null,
   "id": "d0e1f42f",
   "metadata": {},
   "outputs": [],
   "source": [
    "with open('grid.json', 'r') as infile1:\n",
    "    G = nx.node_link_graph(json.loads(infile1.read()))\n",
    "G_orig = nx.Graph(G)\n",
    "\n",
    "for n in G_orig:\n",
    "    if G_orig.nodes[n]['power'] != 0:    \n",
    "        visited = set()\n",
    "        start = n\n",
    "        dfs(visited,G_orig,n)"
   ]
  },
  {
   "cell_type": "code",
   "execution_count": null,
   "id": "eafaf8bf",
   "metadata": {},
   "outputs": [],
   "source": [
    "kick=[]\n",
    "for n in G:\n",
    "    if G.nodes[n]['power'] == 0:\n",
    "        kick.append(n)\n",
    "        \n",
    "for n in kick:\n",
    "    G.remove_node(n)"
   ]
  },
  {
   "cell_type": "code",
   "execution_count": null,
   "id": "b44ae7ff",
   "metadata": {},
   "outputs": [],
   "source": [
    "len(list(G.nodes))"
   ]
  },
  {
   "cell_type": "code",
   "execution_count": null,
   "id": "2db088a5",
   "metadata": {},
   "outputs": [],
   "source": [
    "b = nx.to_pandas_edgelist(G)\n",
    "b"
   ]
  },
  {
   "cell_type": "code",
   "execution_count": null,
   "id": "5b01ad68",
   "metadata": {},
   "outputs": [],
   "source": [
    "a = pd.DataFrame.from_dict(dict(G.nodes(data=True)), orient='index')\n",
    "a['geometry'] = a.apply(lambda node: Point(node.lon, node.lat),axis=1)\n",
    "a = gpd.GeoDataFrame(a, geometry='geometry', crs=crs_gps)"
   ]
  },
  {
   "cell_type": "code",
   "execution_count": null,
   "id": "5638257a",
   "metadata": {},
   "outputs": [],
   "source": [
    "b['geo'] = b.apply(lambda path: LineString([a.loc[path.source]['geometry'], a.loc[path.target]['geometry']]), axis=1)"
   ]
  },
  {
   "cell_type": "code",
   "execution_count": null,
   "id": "be07f39e",
   "metadata": {},
   "outputs": [],
   "source": [
    "b = gpd.GeoDataFrame(b, geometry='geo', crs=crs_gps)"
   ]
  },
  {
   "cell_type": "code",
   "execution_count": null,
   "id": "d43aa27a",
   "metadata": {},
   "outputs": [],
   "source": [
    "fig, ax = plt.subplots(1,1,figsize=(20,20))\n",
    "b.to_crs(crs_web).plot(ax=ax)\n",
    "ctx.add_basemap(ax=ax, zoom=9)"
   ]
  },
  {
   "cell_type": "code",
   "execution_count": null,
   "id": "cca581b8",
   "metadata": {},
   "outputs": [],
   "source": [
    "b.to_csv('contracted_paths.csv')\n",
    "a.to_csv('contracted_nodes.csv')"
   ]
  },
  {
   "cell_type": "code",
   "execution_count": null,
   "id": "287ce2f8",
   "metadata": {},
   "outputs": [],
   "source": [
    "import json\n",
    "with open('grid_contracted.json', 'w') as outfile1:\n",
    "    outfile1.write(json.dumps(nx.node_link_data(G)))"
   ]
  },
  {
   "cell_type": "code",
   "execution_count": null,
   "id": "911fa8be",
   "metadata": {},
   "outputs": [],
   "source": [
    "import math\n",
    "for n in G:\n",
    "    if math.isnan(G.nodes[n]['power']):\n",
    "        print(\"!\")\n",
    "        G.nodes[n]['power'] = 0"
   ]
  },
  {
   "cell_type": "code",
   "execution_count": null,
   "id": "6a67c46c",
   "metadata": {},
   "outputs": [],
   "source": [
    "with open('grid_contracted_nonan.json', 'w') as outfile1:\n",
    "    outfile1.write(json.dumps(nx.node_link_data(G)))"
   ]
  },
  {
   "cell_type": "code",
   "execution_count": null,
   "id": "98b75097",
   "metadata": {},
   "outputs": [],
   "source": []
  },
  {
   "cell_type": "code",
   "execution_count": null,
   "id": "6ce2489b",
   "metadata": {},
   "outputs": [],
   "source": [
    "water = osmnx.geometries_from_place('Finland', tags={'natural':'water'})"
   ]
  },
  {
   "cell_type": "code",
   "execution_count": null,
   "id": "c694cd5b",
   "metadata": {},
   "outputs": [],
   "source": [
    "house = osmnx.geometries_from_place('Finland', tags={'building':True})"
   ]
  },
  {
   "cell_type": "code",
   "execution_count": null,
   "id": "1c78d769",
   "metadata": {},
   "outputs": [],
   "source": [
    "national = osmnx.geometries_from_place('Finland', tags={'boundary':'national_park'})"
   ]
  },
  {
   "cell_type": "code",
   "execution_count": null,
   "id": "f87f6a3f",
   "metadata": {},
   "outputs": [],
   "source": []
  },
  {
   "cell_type": "code",
   "execution_count": null,
   "id": "34954469",
   "metadata": {},
   "outputs": [],
   "source": [
    "parks = national.loc['relation']\n"
   ]
  },
  {
   "cell_type": "code",
   "execution_count": null,
   "id": "5261c6f2",
   "metadata": {},
   "outputs": [],
   "source": [
    "gdf_parks = gpd.GeoDataFrame(parks, geometry='geometry', crs=crs_gps)"
   ]
  },
  {
   "cell_type": "code",
   "execution_count": null,
   "id": "9d2d5732",
   "metadata": {},
   "outputs": [],
   "source": [
    "from shapely.ops import polygonize, unary_union\n",
    "from shapely.geometry import Point, LineString, Polygon, LinearRing, GeometryCollection\n",
    "\n",
    "poly_parks = unary_union(GeometryCollection(list(gdf_parks.geometry)))\n",
    "poly_parks"
   ]
  },
  {
   "cell_type": "code",
   "execution_count": null,
   "id": "795aa7ee",
   "metadata": {},
   "outputs": [],
   "source": [
    "lines = pd.read_csv('contracted_paths.csv')\n",
    "lines = gpd.GeoDataFrame(lines, geometry='geo', crs=crs_gps)"
   ]
  },
  {
   "cell_type": "code",
   "execution_count": null,
   "id": "66d567f5",
   "metadata": {},
   "outputs": [],
   "source": [
    "from shapely.ops import split\n",
    "from shapely.wkt import loads\n",
    "\n",
    "lines['split'] = lines.apply(lambda row: split(loads(row.geo), poly_parks), axis=1)"
   ]
  },
  {
   "cell_type": "code",
   "execution_count": null,
   "id": "5dafa1e5",
   "metadata": {},
   "outputs": [],
   "source": [
    "lines['park'] = lines.apply(lambda row: loads(row.geo).intersects(poly_parks), axis=1)"
   ]
  },
  {
   "cell_type": "code",
   "execution_count": null,
   "id": "51aae573",
   "metadata": {},
   "outputs": [],
   "source": [
    "lines[lines['park']]"
   ]
  },
  {
   "cell_type": "code",
   "execution_count": null,
   "id": "c9179954",
   "metadata": {},
   "outputs": [],
   "source": []
  },
  {
   "cell_type": "code",
   "execution_count": null,
   "id": "af7103dd",
   "metadata": {},
   "outputs": [],
   "source": []
  },
  {
   "cell_type": "code",
   "execution_count": null,
   "id": "207b4ffc",
   "metadata": {},
   "outputs": [],
   "source": []
  },
  {
   "cell_type": "code",
   "execution_count": null,
   "id": "4f286f46",
   "metadata": {},
   "outputs": [],
   "source": [
    "lines['split']"
   ]
  },
  {
   "cell_type": "code",
   "execution_count": null,
   "id": "e0647186",
   "metadata": {},
   "outputs": [],
   "source": [
    "lines.info()"
   ]
  },
  {
   "cell_type": "code",
   "execution_count": null,
   "id": "6415c348",
   "metadata": {},
   "outputs": [],
   "source": []
  },
  {
   "cell_type": "code",
   "execution_count": null,
   "id": "e19793ec",
   "metadata": {},
   "outputs": [],
   "source": [
    "with open('grid_contracted.json', 'r') as infile1:\n",
    "    F = nx.node_link_graph(json.loads(infile1.read()))"
   ]
  },
  {
   "cell_type": "code",
   "execution_count": null,
   "id": "753e3aad",
   "metadata": {},
   "outputs": [],
   "source": [
    "for n in F:\n",
    "    F.nodes[n]['power'] = F.nodes[n]['power'] * (365*24)"
   ]
  },
  {
   "cell_type": "code",
   "execution_count": null,
   "id": "4efeebc0",
   "metadata": {},
   "outputs": [],
   "source": [
    "for s,e in F.edges:\n",
    "    F[s][e]['capacity'] = F[s][e]['capacity'] / 1000000000"
   ]
  },
  {
   "cell_type": "code",
   "execution_count": null,
   "id": "deaa1c16",
   "metadata": {},
   "outputs": [],
   "source": [
    "for n in F:\n",
    "    power = F.nodes[n]['power']\n",
    "    if power > 0:\n",
    "        # producers\n",
    "        F[0][n]['capacity']=power\n",
    "    if power < 0:     \n",
    "        # consumers\n",
    "        F[n][1]['capacity']=abs(power)"
   ]
  },
  {
   "cell_type": "code",
   "execution_count": null,
   "id": "9cf649c8",
   "metadata": {},
   "outputs": [],
   "source": [
    "F.edges.data()"
   ]
  },
  {
   "cell_type": "code",
   "execution_count": null,
   "id": "d1080bbe",
   "metadata": {},
   "outputs": [],
   "source": [
    "with open('grid_contracted_units.json', 'w') as outfile1:\n",
    "    outfile1.write(json.dumps(nx.node_link_data(F)))"
   ]
  },
  {
   "cell_type": "code",
   "execution_count": null,
   "id": "a1311436",
   "metadata": {},
   "outputs": [],
   "source": [
    "lines"
   ]
  },
  {
   "cell_type": "code",
   "execution_count": 2,
   "id": "0463d5cc",
   "metadata": {},
   "outputs": [],
   "source": [
    "cuts = [(1147151748, 3536595671), (824065452, 4447358451), (634989945, 2636358023), (2408331411, 2408331526), (2647668116, 1568817948), (2156877608, 4011659942), (2278030269, 2759244272), (7833850369, 7833827236), (246529612, 294854486), (6175259891, 288465276), (1092860862, 5048354290), (1224394666, 1425122020), (1802301146, 5931192731), (2408331345, 2408331223), (2376430694, 1019905622), (1224394666, 2090571394), (8661578399, 8661598578), (3943008213, 3943008240)]"
   ]
  },
  {
   "cell_type": "code",
   "execution_count": null,
   "id": "93003a84",
   "metadata": {},
   "outputs": [],
   "source": [
    "lines = lines.set_index(['source','target'])"
   ]
  },
  {
   "cell_type": "code",
   "execution_count": null,
   "id": "e343b638",
   "metadata": {},
   "outputs": [],
   "source": [
    "selection = []\n",
    "for a,b in cuts:\n",
    "    try :\n",
    "        selection.append([a,b,lines.loc[a,b].park])\n",
    "    except:\n",
    "        pass"
   ]
  },
  {
   "cell_type": "code",
   "execution_count": 12,
   "id": "27bdc2e1",
   "metadata": {},
   "outputs": [],
   "source": [
    "pd.DataFrame(cuts).rename(columns={0:'source',1:'target'}).T.to_json('cuts.json')"
   ]
  }
 ],
 "metadata": {
  "kernelspec": {
   "display_name": "Python 3 (ipykernel)",
   "language": "python",
   "name": "python3"
  },
  "language_info": {
   "codemirror_mode": {
    "name": "ipython",
    "version": 3
   },
   "file_extension": ".py",
   "mimetype": "text/x-python",
   "name": "python",
   "nbconvert_exporter": "python",
   "pygments_lexer": "ipython3",
   "version": "3.10.6"
  }
 },
 "nbformat": 4,
 "nbformat_minor": 5
}
